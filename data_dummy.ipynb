{
 "cells": [
  {
   "cell_type": "code",
   "execution_count": 1,
   "id": "338f8411",
   "metadata": {},
   "outputs": [
    {
     "name": "stdout",
     "output_type": "stream",
     "text": [
      "Collecting faker\n",
      "  Downloading Faker-22.2.0-py3-none-any.whl (1.7 MB)\n",
      "     ---------------------------------------- 1.7/1.7 MB 785.2 kB/s eta 0:00:00\n",
      "Collecting psycopg2\n",
      "  Downloading psycopg2-2.9.9-cp310-cp310-win_amd64.whl (1.2 MB)\n",
      "     ---------------------------------------- 1.2/1.2 MB 348.1 kB/s eta 0:00:00\n",
      "Requirement already satisfied: python-dateutil>=2.4 in c:\\users\\delll\\anaconda3\\lib\\site-packages (from faker) (2.8.2)\n",
      "Requirement already satisfied: six>=1.5 in c:\\users\\delll\\anaconda3\\lib\\site-packages (from python-dateutil>=2.4->faker) (1.16.0)\n",
      "Installing collected packages: psycopg2, faker\n",
      "Successfully installed faker-22.2.0 psycopg2-2.9.9\n",
      "Note: you may need to restart the kernel to use updated packages.\n"
     ]
    }
   ],
   "source": [
    "pip install faker psycopg2"
   ]
  },
  {
   "cell_type": "code",
   "execution_count": 39,
   "id": "9d0361be",
   "metadata": {},
   "outputs": [],
   "source": [
    "import psycopg2\n",
    "from faker import Faker\n",
    "\n",
    "import json\n",
    "from datetime import datetime, timedelta\n",
    "import random"
   ]
  },
  {
   "cell_type": "markdown",
   "id": "e7cea166",
   "metadata": {},
   "source": [
    "# Membuat Data Dummy"
   ]
  },
  {
   "cell_type": "code",
   "execution_count": 40,
   "id": "106fb183",
   "metadata": {},
   "outputs": [],
   "source": [
    "def generate_transaction_code(transaction_type):\n",
    "  letters = transaction_type.split()[0][:1] + transaction_type.split()[0][2:3]\n",
    "  random_num = ''.join([str(random.randint(0, 9)) for _ in range(13)])\n",
    "  return f'{letters} - {random_num}'\n"
   ]
  },
  {
   "cell_type": "code",
   "execution_count": 51,
   "id": "c2f1c95c",
   "metadata": {},
   "outputs": [],
   "source": [
    "def new_dummy_data(num_records):\n",
    "  fake = Faker()\n",
    "  data = []\n",
    "\n",
    "  for _ in range(num_records):\n",
    "    transaction_type = fake.random_element(elements=('WITHDRAWAL TRANSFER(ATM)',\n",
    "                                                     'GOPAY', 'DEPOSIT TRANSFER(ATM)',\n",
    "                                                     'DEPOSIT CROSS BORDER',\n",
    "                                                     'WITHDRAWAL TRANSFER', 'REVERSAL',\n",
    "                                                     'BIAYA ADMIN', 'PAYMENT CC',\n",
    "                                                     'PAYMENT TELCO PASCABAYAR',\n",
    "                                                     'INTERNATIONAL TRANSACTION',\n",
    "                                                     'ONLINE SHOPPING', 'PURCHASE',\n",
    "                                                     'TRANSFER BANK', 'UTILITY PAYMENT'\n",
    "\n",
    "    ))\n",
    "    trx_date = datetime.now() - timedelta(days=random.randint(1,365))\n",
    "    trx_time = f'{random.randint(0, 23):02d}:{random.randint(0, 59):02d}:{random.randint(0, 59):02d}'\n",
    "\n",
    "    transaction_code = generate_transaction_code(transaction_type)\n",
    "\n",
    "\n",
    "    record = {\"ACCOUNT_NUMBER\": fake.random_number(random.randint(6, 6)),\n",
    "              \"TRX_TYPE\": fake.random_element(elements=('Ewallet','Credit Cards',\n",
    "                                                        'Bank Transfers', 'Debit Cards',\n",
    "                                                        'Cash', 'Checks and Cheques',\n",
    "                                                        'Electronic Transfers',\n",
    "                                                        'Cryptocurrencies',\n",
    "                                                        'Mobile Banking',\n",
    "                                                        'QR Code Payment', 'Gift Cards')),\n",
    "              \"AMOUNT\": fake.random_int(min=-20000000, max=20000000),\n",
    "              \"FLAG_DB_CR\": fake.random_element(elements=('C', 'D')),\n",
    "              \"INFORMATION\": f'{transaction_type} {transaction_code}',\n",
    "              \"TRX_DATE\": int(trx_date.timestamp()*1000),\n",
    "              \"REFERENCE_NUMBER\": fake.random_number(digits=6),\n",
    "              \"CURRENCY\": \"IDR\",\n",
    "              \"TRX_TIME\": trx_time,\n",
    "              \"CIF\": fake.random_number(digits=10),\n",
    "              \"FITUR\": fake.random_element(elements=('Gopay', 'OVO', 'Dana',\n",
    "                                                     'Shopee Pay', 'Paypal',\n",
    "                                                     'Bank Services'))\n",
    "\n",
    "    }\n",
    "\n",
    "    data.append(record)\n",
    "\n",
    "  return data\n"
   ]
  },
  {
   "cell_type": "code",
   "execution_count": 52,
   "id": "036524ef",
   "metadata": {},
   "outputs": [],
   "source": [
    "num_records = 150000\n",
    "dummy_data = new_dummy_data(num_records)"
   ]
  },
  {
   "cell_type": "markdown",
   "id": "76f695a5",
   "metadata": {},
   "source": [
    "# Menyimpan Data Dummy di PostgreSQL"
   ]
  },
  {
   "cell_type": "code",
   "execution_count": 53,
   "id": "fc108ee5",
   "metadata": {},
   "outputs": [],
   "source": [
    "def insert_data_to_postgresql(data):\n",
    "    connection = psycopg2.connect(\n",
    "        host=\"localhost\",\n",
    "        database=\"db_trans\",\n",
    "        user=\"postgres\",\n",
    "        password=\"milo12\",\n",
    "        port='5432'\n",
    "    )\n",
    "\n",
    "    cursor = connection.cursor()\n",
    "\n",
    "\n",
    "    for record in dummy_data:\n",
    "        insert_query = \"\"\"\n",
    "            INSERT INTO user_trans(\n",
    "                ACCOUNT_NUMBER, TRX_TYPE, AMOUNT, FLAG_DB_CR,\n",
    "                INFORMATION, TRX_DATE, REFERENCE_NUMBER, CURRENCY,\n",
    "                TRX_TIME, CIF, FITUR\n",
    "            ) VALUES (%s, %s, %s, %s, %s, %s, %s, %s, %s, %s, %s)\n",
    "        \"\"\"\n",
    "        cursor.execute(insert_query, (\n",
    "            record[\"ACCOUNT_NUMBER\"], record[\"TRX_TYPE\"], record[\"AMOUNT\"],\n",
    "            record[\"FLAG_DB_CR\"], record[\"INFORMATION\"], \n",
    "            datetime.utcfromtimestamp(record[\"TRX_DATE\"] / 1000),\n",
    "            record[\"REFERENCE_NUMBER\"], record[\"CURRENCY\"], record[\"TRX_TIME\"],\n",
    "            record[\"CIF\"], record[\"FITUR\"]\n",
    "        ))\n",
    "\n",
    "    connection.commit()\n",
    "\n"
   ]
  },
  {
   "cell_type": "code",
   "execution_count": 54,
   "id": "23d9a431",
   "metadata": {},
   "outputs": [],
   "source": [
    "insert_data_to_postgresql(dummy_data)"
   ]
  },
  {
   "cell_type": "code",
   "execution_count": null,
   "id": "64d9116d",
   "metadata": {},
   "outputs": [],
   "source": []
  }
 ],
 "metadata": {
  "kernelspec": {
   "display_name": "Python 3 (ipykernel)",
   "language": "python",
   "name": "python3"
  },
  "language_info": {
   "codemirror_mode": {
    "name": "ipython",
    "version": 3
   },
   "file_extension": ".py",
   "mimetype": "text/x-python",
   "name": "python",
   "nbconvert_exporter": "python",
   "pygments_lexer": "ipython3",
   "version": "3.10.9"
  }
 },
 "nbformat": 4,
 "nbformat_minor": 5
}
